{
 "cells": [
  {
   "cell_type": "markdown",
   "id": "3e91e99b",
   "metadata": {},
   "source": [
    "### This demo reproduces the survival curve (Figure 2b) from the following paper\n",
    "\n",
    "_Indicators of retention in remote digital health studies: A cross-study evaluation of 100,000 participants\n",
    "Abhishek Pratap, Elias Chaibub Neto, Phil Snyder, Carl Stepnowsky, Noémie Elhadad, Daniel Grant, Matthew H. Mohebbi, Sean Mooney, Christine Suver, John Wilbanks, Lara Mangravite, Patrick J. Heagerty, Pat Arean, Larsson Omberg npj Digit. Med. 3, 21 (2020). https://doi.org/10.1038/s41746-020-0224-8_ \n",
    "\n",
    "\n",
    "The code below is rehashed from the following github repo:\n",
    "https://github.com/apratap/digitalHealth_RetentionAnalysis_PublicRelease/\n",
    "\n",
    "\n",
    "\n",
    "<img src=\"files/images/NPJ_Pratapetal.png\" align=\"center\"/>"
   ]
  },
  {
   "cell_type": "markdown",
   "id": "cd33db78",
   "metadata": {},
   "source": [
    "### Setting up working environment"
   ]
  },
  {
   "cell_type": "code",
   "execution_count": 1,
   "id": "be472a92",
   "metadata": {},
   "outputs": [
    {
     "name": "stderr",
     "output_type": "stream",
     "text": [
      "gdata: read.xls support for 'XLS' (Excel 97-2004) files ENABLED.\n",
      "\n",
      "\n",
      "\n",
      "gdata: read.xls support for 'XLSX' (Excel 2007+) files ENABLED.\n",
      "\n",
      "\n",
      "Attaching package: ‘gdata’\n",
      "\n",
      "\n",
      "The following objects are masked from ‘package:data.table’:\n",
      "\n",
      "    first, last\n",
      "\n",
      "\n",
      "The following object is masked from ‘package:stats’:\n",
      "\n",
      "    nobs\n",
      "\n",
      "\n",
      "The following object is masked from ‘package:utils’:\n",
      "\n",
      "    object.size\n",
      "\n",
      "\n",
      "The following object is masked from ‘package:base’:\n",
      "\n",
      "    startsWith\n",
      "\n",
      "\n",
      "\n",
      "New synapser version detected: \n",
      "    You are using synapser version 0.9.77.\n",
      "    synapser version 0.10.101 is detected at http://ran.synapse.org.\n",
      "    To upgrade to the latest version of synapser, please run the following command:\n",
      "    install.packages(\"synapser\", repos=\"http://ran.synapse.org\")\n",
      "\n",
      "\n",
      "\n",
      "TERMS OF USE NOTICE:\n",
      "  When using Synapse, remember that the terms and conditions of use require that you:\n",
      "  1) Attribute data contributors when discussing these data or results from these data.\n",
      "  2) Not discriminate, identify, or recontact individuals or groups represented by the data.\n",
      "  3) Use and contribute only data de-identified to HIPAA standards.\n",
      "  4) Redistribute data only under these same terms of use.\n",
      "\n",
      "\n",
      "── \u001b[1mAttaching packages\u001b[22m ─────────────────────────────────────── tidyverse 1.3.1 ──\n",
      "\n",
      "\u001b[32m✔\u001b[39m \u001b[34mggplot2\u001b[39m 3.3.5     \u001b[32m✔\u001b[39m \u001b[34mpurrr  \u001b[39m 0.3.4\n",
      "\u001b[32m✔\u001b[39m \u001b[34mtibble \u001b[39m 3.1.2     \u001b[32m✔\u001b[39m \u001b[34mdplyr  \u001b[39m 1.0.7\n",
      "\u001b[32m✔\u001b[39m \u001b[34mtidyr  \u001b[39m 1.1.3     \u001b[32m✔\u001b[39m \u001b[34mforcats\u001b[39m 0.5.1\n",
      "\u001b[32m✔\u001b[39m \u001b[34mreadr  \u001b[39m 1.4.0     \n",
      "\n",
      "── \u001b[1mConflicts\u001b[22m ────────────────────────────────────────── tidyverse_conflicts() ──\n",
      "\u001b[31m✖\u001b[39m \u001b[34mdplyr\u001b[39m::\u001b[32marrange()\u001b[39m   masks \u001b[34mplyr\u001b[39m::arrange()\n",
      "\u001b[31m✖\u001b[39m \u001b[34mdplyr\u001b[39m::\u001b[32mbetween()\u001b[39m   masks \u001b[34mdata.table\u001b[39m::between()\n",
      "\u001b[31m✖\u001b[39m \u001b[34mdplyr\u001b[39m::\u001b[32mcombine()\u001b[39m   masks \u001b[34mgdata\u001b[39m::combine()\n",
      "\u001b[31m✖\u001b[39m \u001b[34mpurrr\u001b[39m::\u001b[32mcompact()\u001b[39m   masks \u001b[34mplyr\u001b[39m::compact()\n",
      "\u001b[31m✖\u001b[39m \u001b[34mdplyr\u001b[39m::\u001b[32mcount()\u001b[39m     masks \u001b[34mplyr\u001b[39m::count()\n",
      "\u001b[31m✖\u001b[39m \u001b[34mdplyr\u001b[39m::\u001b[32mfailwith()\u001b[39m  masks \u001b[34mplyr\u001b[39m::failwith()\n",
      "\u001b[31m✖\u001b[39m \u001b[34mdplyr\u001b[39m::\u001b[32mfilter()\u001b[39m    masks \u001b[34mstats\u001b[39m::filter()\n",
      "\u001b[31m✖\u001b[39m \u001b[34mdplyr\u001b[39m::\u001b[32mfirst()\u001b[39m     masks \u001b[34mgdata\u001b[39m::first(), \u001b[34mdata.table\u001b[39m::first()\n",
      "\u001b[31m✖\u001b[39m \u001b[34mpurrr\u001b[39m::\u001b[32mflatten()\u001b[39m   masks \u001b[34mjsonlite\u001b[39m::flatten()\n",
      "\u001b[31m✖\u001b[39m \u001b[34mdplyr\u001b[39m::\u001b[32mid()\u001b[39m        masks \u001b[34mplyr\u001b[39m::id()\n",
      "\u001b[31m✖\u001b[39m \u001b[34mpurrr\u001b[39m::\u001b[32mkeep()\u001b[39m      masks \u001b[34mgdata\u001b[39m::keep()\n",
      "\u001b[31m✖\u001b[39m \u001b[34mdplyr\u001b[39m::\u001b[32mlag()\u001b[39m       masks \u001b[34mstats\u001b[39m::lag()\n",
      "\u001b[31m✖\u001b[39m \u001b[34mdplyr\u001b[39m::\u001b[32mlast()\u001b[39m      masks \u001b[34mgdata\u001b[39m::last(), \u001b[34mdata.table\u001b[39m::last()\n",
      "\u001b[31m✖\u001b[39m \u001b[34mdplyr\u001b[39m::\u001b[32mmutate()\u001b[39m    masks \u001b[34mplyr\u001b[39m::mutate()\n",
      "\u001b[31m✖\u001b[39m \u001b[34mdplyr\u001b[39m::\u001b[32mrename()\u001b[39m    masks \u001b[34mplyr\u001b[39m::rename()\n",
      "\u001b[31m✖\u001b[39m \u001b[34mdplyr\u001b[39m::\u001b[32msummarise()\u001b[39m masks \u001b[34mplyr\u001b[39m::summarise()\n",
      "\u001b[31m✖\u001b[39m \u001b[34mdplyr\u001b[39m::\u001b[32msummarize()\u001b[39m masks \u001b[34mplyr\u001b[39m::summarize()\n",
      "\u001b[31m✖\u001b[39m \u001b[34mpurrr\u001b[39m::\u001b[32mtranspose()\u001b[39m masks \u001b[34mdata.table\u001b[39m::transpose()\n",
      "\n",
      "Loading required package: foreach\n",
      "\n",
      "\n",
      "Attaching package: ‘foreach’\n",
      "\n",
      "\n",
      "The following objects are masked from ‘package:purrr’:\n",
      "\n",
      "    accumulate, when\n",
      "\n",
      "\n",
      "Loading required package: iterators\n",
      "\n",
      "\n",
      "Attaching package: ‘iterators’\n",
      "\n",
      "\n",
      "The following object is masked from ‘package:synapser’:\n",
      "\n",
      "    nextElem\n",
      "\n",
      "\n",
      "Loading required package: parallel\n",
      "\n",
      "\n",
      "Attaching package: ‘scales’\n",
      "\n",
      "\n",
      "The following object is masked from ‘package:purrr’:\n",
      "\n",
      "    discard\n",
      "\n",
      "\n",
      "The following object is masked from ‘package:readr’:\n",
      "\n",
      "    col_factor\n",
      "\n",
      "\n",
      "\n",
      "Attaching package: ‘gridExtra’\n",
      "\n",
      "\n",
      "The following object is masked from ‘package:dplyr’:\n",
      "\n",
      "    combine\n",
      "\n",
      "\n",
      "The following object is masked from ‘package:gdata’:\n",
      "\n",
      "    combine\n",
      "\n",
      "\n"
     ]
    }
   ],
   "source": [
    "rm(list=ls())\n",
    "options(stringsAsFactors = F)\n",
    "library(\"install.load\")\n",
    "install_load(\"data.table\", \"gdata\", \"synapser\", \"jsonlite\", \"stringr\")\n",
    "install_load(\"plyr\", \"tidyverse\", \"doMC\", \"scales\", \"data.table\")\n",
    "install_load(\"gridExtra\", \"pheatmap\", \"printr\", \"ggthemes\", \"anytime\")"
   ]
  },
  {
   "cell_type": "markdown",
   "id": "91b1e9a2",
   "metadata": {},
   "source": [
    "### Login to synpase using locally stored credentials"
   ]
  },
  {
   "cell_type": "code",
   "execution_count": 2,
   "id": "62d0b7ee",
   "metadata": {},
   "outputs": [
    {
     "name": "stdout",
     "output_type": "stream",
     "text": [
      "Welcome, Abhishek Pratap!"
     ]
    }
   ],
   "source": [
    "syn = synapser::synLogin()"
   ]
  },
  {
   "cell_type": "markdown",
   "id": "cc01ef8c",
   "metadata": {},
   "source": [
    "### Hard Coded Study Specific Colors for Survival Curve"
   ]
  },
  {
   "cell_type": "code",
   "execution_count": 3,
   "id": "8bdb3164",
   "metadata": {},
   "outputs": [],
   "source": [
    "STUDY_COLS = data.frame(study = c('SleepHealth', 'Brighten', 'Asthma', 'ElevateMS',  \n",
    "                                  'mPower','Phendo','MyHeartCounts', 'Start'),\n",
    "                        color = c('#4363D8', '#0B9FC1', '#E6194B', '#38A847',\n",
    "                                  '#F032E6', '#f58231', '#800000', '#808000'))"
   ]
  },
  {
   "cell_type": "markdown",
   "id": "2fd49ceb",
   "metadata": {},
   "source": [
    "### 1. Loading Data\n",
    "\n",
    "Will only demonstrate some code blocks to show the data download from synapse \n",
    "Full Script [here](https://github.com/apratap/digitalHealth_RetentionAnalysis_PublicRelease/blob/master/analysis/loadData.R)"
   ]
  },
  {
   "cell_type": "markdown",
   "id": "aa63268f",
   "metadata": {},
   "source": [
    "### 1.A - mPower Study "
   ]
  },
  {
   "cell_type": "code",
   "execution_count": 4,
   "id": "95b54f84",
   "metadata": {},
   "outputs": [],
   "source": [
    "##################\n",
    "### mPower\n",
    "##################\n",
    "get_mpower_engagement_data <- function(){\n",
    "  df <- fread(synGet(\"syn20929422\")$path, data.table = F) %>%\n",
    "    dplyr::rename(healthCode = uid)\n",
    "}\n",
    "get_mpower_mdata <- function() {\n",
    "  fread(synGet(\"syn20929429\")$path, data.table = F) %>%\n",
    "    dplyr::rename(healthCode = uid)\n",
    "\n",
    "}\n",
    "mpower_mdata <- get_mpower_mdata()\n",
    "mpower <- get_mpower_engagement_data()"
   ]
  },
  {
   "cell_type": "markdown",
   "id": "21c0795d",
   "metadata": {},
   "source": [
    "### Explore downloaded data"
   ]
  },
  {
   "cell_type": "code",
   "execution_count": 5,
   "id": "706241f3",
   "metadata": {},
   "outputs": [
    {
     "data": {
      "text/html": [
       "<table class=\"dataframe\">\n",
       "<caption>A data.frame: 6 × 8</caption>\n",
       "<thead>\n",
       "\t<tr><th></th><th scope=col>study</th><th scope=col>healthCode</th><th scope=col>age_group</th><th scope=col>gender</th><th scope=col>diseaseStatus</th><th scope=col>state</th><th scope=col>race_ethnicity</th><th scope=col>clinicalReferral</th></tr>\n",
       "\t<tr><th></th><th scope=col>&lt;chr&gt;</th><th scope=col>&lt;chr&gt;</th><th scope=col>&lt;chr&gt;</th><th scope=col>&lt;chr&gt;</th><th scope=col>&lt;lgl&gt;</th><th scope=col>&lt;chr&gt;</th><th scope=col>&lt;chr&gt;</th><th scope=col>&lt;lgl&gt;</th></tr>\n",
       "</thead>\n",
       "<tbody>\n",
       "\t<tr><th scope=row>1</th><td>mPower</td><td>000240d1-1110-4dd2-a2d0-e344c37efd68</td><td>(29,39] </td><td>Male  </td><td>FALSE</td><td>Colorado   </td><td>Non-Hispanic White</td><td>FALSE</td></tr>\n",
       "\t<tr><th scope=row>2</th><td>mPower</td><td>0005a31d-e52c-447c-9971-ccc7bef667fb</td><td>(29,39] </td><td>Male  </td><td>FALSE</td><td>Washington </td><td>Non-Hispanic White</td><td>FALSE</td></tr>\n",
       "\t<tr><th scope=row>3</th><td>mPower</td><td>00081bd9-9abd-4003-b035-de6cc3e8c922</td><td>(59,120]</td><td>Male  </td><td>FALSE</td><td>NA         </td><td>Asian             </td><td>FALSE</td></tr>\n",
       "\t<tr><th scope=row>4</th><td>mPower</td><td>00086114-0bb3-460e-8841-94bc35d27d71</td><td>(17,29] </td><td>Female</td><td>FALSE</td><td>New York   </td><td>Non-Hispanic White</td><td>FALSE</td></tr>\n",
       "\t<tr><th scope=row>5</th><td>mPower</td><td>001702e9-908d-4419-9c08-8ef5615d6b67</td><td>(59,120]</td><td>Male  </td><td> TRUE</td><td>Mississippi</td><td>Non-Hispanic White</td><td> TRUE</td></tr>\n",
       "\t<tr><th scope=row>6</th><td>mPower</td><td>00182372-b75c-48f0-a74d-2c1f447bb0bd</td><td>(17,29] </td><td>Male  </td><td>FALSE</td><td>New York   </td><td>Non-Hispanic White</td><td>FALSE</td></tr>\n",
       "</tbody>\n",
       "</table>\n"
      ],
      "text/latex": [
       "A data.frame: 6 × 8\n",
       "\\begin{tabular}{r|llllllll}\n",
       "  & study & healthCode & age\\_group & gender & diseaseStatus & state & race\\_ethnicity & clinicalReferral\\\\\n",
       "  & <chr> & <chr> & <chr> & <chr> & <lgl> & <chr> & <chr> & <lgl>\\\\\n",
       "\\hline\n",
       "\t1 & mPower & 000240d1-1110-4dd2-a2d0-e344c37efd68 & (29,39{]}  & Male   & FALSE & Colorado    & Non-Hispanic White & FALSE\\\\\n",
       "\t2 & mPower & 0005a31d-e52c-447c-9971-ccc7bef667fb & (29,39{]}  & Male   & FALSE & Washington  & Non-Hispanic White & FALSE\\\\\n",
       "\t3 & mPower & 00081bd9-9abd-4003-b035-de6cc3e8c922 & (59,120{]} & Male   & FALSE & NA          & Asian              & FALSE\\\\\n",
       "\t4 & mPower & 00086114-0bb3-460e-8841-94bc35d27d71 & (17,29{]}  & Female & FALSE & New York    & Non-Hispanic White & FALSE\\\\\n",
       "\t5 & mPower & 001702e9-908d-4419-9c08-8ef5615d6b67 & (59,120{]} & Male   &  TRUE & Mississippi & Non-Hispanic White &  TRUE\\\\\n",
       "\t6 & mPower & 00182372-b75c-48f0-a74d-2c1f447bb0bd & (17,29{]}  & Male   & FALSE & New York    & Non-Hispanic White & FALSE\\\\\n",
       "\\end{tabular}\n"
      ],
      "text/markdown": [
       "\n",
       "A data.frame: 6 × 8\n",
       "\n",
       "| <!--/--> | study &lt;chr&gt; | healthCode &lt;chr&gt; | age_group &lt;chr&gt; | gender &lt;chr&gt; | diseaseStatus &lt;lgl&gt; | state &lt;chr&gt; | race_ethnicity &lt;chr&gt; | clinicalReferral &lt;lgl&gt; |\n",
       "|---|---|---|---|---|---|---|---|---|\n",
       "| 1 | mPower | 000240d1-1110-4dd2-a2d0-e344c37efd68 | (29,39]  | Male   | FALSE | Colorado    | Non-Hispanic White | FALSE |\n",
       "| 2 | mPower | 0005a31d-e52c-447c-9971-ccc7bef667fb | (29,39]  | Male   | FALSE | Washington  | Non-Hispanic White | FALSE |\n",
       "| 3 | mPower | 00081bd9-9abd-4003-b035-de6cc3e8c922 | (59,120] | Male   | FALSE | NA          | Asian              | FALSE |\n",
       "| 4 | mPower | 00086114-0bb3-460e-8841-94bc35d27d71 | (17,29]  | Female | FALSE | New York    | Non-Hispanic White | FALSE |\n",
       "| 5 | mPower | 001702e9-908d-4419-9c08-8ef5615d6b67 | (59,120] | Male   |  TRUE | Mississippi | Non-Hispanic White |  TRUE |\n",
       "| 6 | mPower | 00182372-b75c-48f0-a74d-2c1f447bb0bd | (17,29]  | Male   | FALSE | New York    | Non-Hispanic White | FALSE |\n",
       "\n"
      ],
      "text/plain": [
       "  study  healthCode                           age_group gender diseaseStatus\n",
       "1 mPower 000240d1-1110-4dd2-a2d0-e344c37efd68 (29,39]   Male   FALSE        \n",
       "2 mPower 0005a31d-e52c-447c-9971-ccc7bef667fb (29,39]   Male   FALSE        \n",
       "3 mPower 00081bd9-9abd-4003-b035-de6cc3e8c922 (59,120]  Male   FALSE        \n",
       "4 mPower 00086114-0bb3-460e-8841-94bc35d27d71 (17,29]   Female FALSE        \n",
       "5 mPower 001702e9-908d-4419-9c08-8ef5615d6b67 (59,120]  Male    TRUE        \n",
       "6 mPower 00182372-b75c-48f0-a74d-2c1f447bb0bd (17,29]   Male   FALSE        \n",
       "  state       race_ethnicity     clinicalReferral\n",
       "1 Colorado    Non-Hispanic White FALSE           \n",
       "2 Washington  Non-Hispanic White FALSE           \n",
       "3 NA          Asian              FALSE           \n",
       "4 New York    Non-Hispanic White FALSE           \n",
       "5 Mississippi Non-Hispanic White  TRUE           \n",
       "6 New York    Non-Hispanic White FALSE           "
      ]
     },
     "metadata": {},
     "output_type": "display_data"
    }
   ],
   "source": [
    "head(mpower_mdata)"
   ]
  },
  {
   "cell_type": "markdown",
   "id": "9afa695a",
   "metadata": {},
   "source": [
    "### Repeat the same for 8 studies \n",
    "_This step will not work unless the user has access rights to data for each study_"
   ]
  },
  {
   "cell_type": "code",
   "execution_count": null,
   "id": "0efef793",
   "metadata": {
    "scrolled": false
   },
   "outputs": [
    {
     "name": "stderr",
     "output_type": "stream",
     "text": [
      "\u001b[36mℹ\u001b[39m SHA-1 hash of file is 57916e7cf67b5a0c119e675f8ec372c0d7a0bb56\n",
      "\n"
     ]
    },
    {
     "name": "stdout",
     "output_type": "stream",
     "text": [
      "Welcome, Abhishek Pratap!"
     ]
    },
    {
     "name": "stderr",
     "output_type": "stream",
     "text": [
      "\u001b[36mℹ\u001b[39m SHA-1 hash of file is 7e5a603a82c4675adabc17739ecb916c910369a8\n",
      "\n",
      "\n",
      "Attaching package: ‘lubridate’\n",
      "\n",
      "\n",
      "The following objects are masked from ‘package:data.table’:\n",
      "\n",
      "    hour, isoweek, mday, minute, month, quarter, second, wday, week,\n",
      "    yday, year\n",
      "\n",
      "\n",
      "The following objects are masked from ‘package:base’:\n",
      "\n",
      "    date, intersect, setdiff, union\n",
      "\n",
      "\n"
     ]
    }
   ],
   "source": [
    "suppressWarnings( devtools::source_url(\"https://raw.githubusercontent.com/apratap/digitalHealth_RetentionAnalysis_PublicRelease/master/analysis/loadData.R\") ) "
   ]
  },
  {
   "cell_type": "markdown",
   "id": "fd43ee84",
   "metadata": {},
   "source": [
    "### Survival Analysis \n",
    "How long participants lasted in a fully remote digital health study "
   ]
  },
  {
   "cell_type": "code",
   "execution_count": null,
   "id": "5d7c724f",
   "metadata": {},
   "outputs": [],
   "source": [
    "#### back up option in case the live data download fails\n",
    "#load(\"~/Downloads/tmp_digitalHealth_retentiondata.RData\")"
   ]
  },
  {
   "cell_type": "code",
   "execution_count": null,
   "id": "66348b24",
   "metadata": {},
   "outputs": [],
   "source": [
    "install_load(\"survival\", \"survminer\", \"synapser\")"
   ]
  },
  {
   "cell_type": "markdown",
   "id": "ba8e4f32",
   "metadata": {},
   "source": [
    "#### Stratified Log Rank Test"
   ]
  },
  {
   "cell_type": "code",
   "execution_count": null,
   "id": "1b59b1ff",
   "metadata": {},
   "outputs": [],
   "source": [
    "nrow(userStats)\n",
    "censor <- rep(1, nrow(userStats)) \n",
    "fit.test <- survdiff(survival::Surv(time=duration_in_study, event=censor, type = \"right\") ~ study, data = userStats )\n",
    "fit.test\n",
    "fit.plot <- survfit(survival::Surv(time=duration_in_study, event=censor, type = \"right\") ~ study, data = userStats )\n",
    "fit.plot"
   ]
  },
  {
   "cell_type": "code",
   "execution_count": null,
   "id": "1712190f",
   "metadata": {},
   "outputs": [],
   "source": [
    "p1 <- ggsurvplot(fit.plot, pval = F, conf.int = T, \n",
    "                 xlab = \"Duration in study \",  \n",
    "                 palette = STUDY_COLS$color,\n",
    "                 risk.table = F,\n",
    "                 risk.table.height = 0.3,\n",
    "                 risk.table.y.text = FALSE,\n",
    "                 legend = \"right\",\n",
    "                 legend.labs = STUDY_COLS$study,\n",
    "                 surv.median.line = \"hv\", ggtheme = theme_bw(base_size = 15))\n",
    "p1"
   ]
  },
  {
   "cell_type": "code",
   "execution_count": null,
   "id": "24fb01b6",
   "metadata": {},
   "outputs": [],
   "source": []
  },
  {
   "cell_type": "code",
   "execution_count": null,
   "id": "bada6765",
   "metadata": {},
   "outputs": [],
   "source": []
  }
 ],
 "metadata": {
  "kernelspec": {
   "display_name": "R",
   "language": "R",
   "name": "ir"
  },
  "language_info": {
   "codemirror_mode": "r",
   "file_extension": ".r",
   "mimetype": "text/x-r-source",
   "name": "R",
   "pygments_lexer": "r",
   "version": "4.0.4"
  }
 },
 "nbformat": 4,
 "nbformat_minor": 5
}
