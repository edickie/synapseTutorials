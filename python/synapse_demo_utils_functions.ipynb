{
 "cells": [
  {
   "cell_type": "markdown",
   "metadata": {},
   "source": [
    "### Utility functions mainly used for Synapse demo"
   ]
  },
  {
   "cell_type": "code",
   "execution_count": 3,
   "metadata": {},
   "outputs": [],
   "source": [
    "import shutil\n",
    "import re\n",
    "import pandas"
   ]
  },
  {
   "cell_type": "code",
   "execution_count": 4,
   "metadata": {},
   "outputs": [],
   "source": [
    "def pushToSynapse(syn, value, parentId, fileName = None):\n",
    "    \"\"\"\n",
    "    given string push the same to synaspe and store under the given synapseId\n",
    "\n",
    "    \"\"\"\n",
    "    temp_file = tempfile.NamedTemporaryFile(mode='w+t',prefix='command_line_used_', suffix='.txt', delete=False)\n",
    "    temp_file.write(value)\n",
    "    temp_file.close()\n",
    "\n",
    "    if fileName is None:\n",
    "        fileName = os.path.basename(temp_file.name)\n",
    "    \n",
    "    syn_temp_file = syn.store(synapseclient.File(temp_file.name, parentId=parentId, name=fileName))\n",
    "    return syn_temp_file.id"
   ]
  },
  {
   "cell_type": "code",
   "execution_count": 5,
   "metadata": {},
   "outputs": [],
   "source": [
    "def create_dir(directory):\n",
    "    if not os.path.exists(directory):\n",
    "        os.makedirs(directory)\n",
    "    return directory"
   ]
  },
  {
   "cell_type": "code",
   "execution_count": 6,
   "metadata": {},
   "outputs": [],
   "source": [
    "def moveFile(orig_file, new_fileName, moveDir=None):\n",
    "    \"\"\"\n",
    "    given an absolute path file name, move it to a new_fileName\n",
    "    \"\"\"\n",
    "    if moveDir is None:\n",
    "        basedir =  os.path.dirname(orig_file)\n",
    "\n",
    "    abs_new_fileName = basedir + '/' + new_fileName\n",
    "    shutil.move(orig_file, abs_new_fileName)\n",
    "    return abs_new_fileName"
   ]
  },
  {
   "cell_type": "code",
   "execution_count": 22,
   "metadata": {},
   "outputs": [],
   "source": [
    "import random, string\n",
    "\n",
    "def randomword(length):\n",
    "   return ''.join(random.choice(string.ascii_letters.lower()) for i in range(length))"
   ]
  },
  {
   "cell_type": "code",
   "execution_count": 8,
   "metadata": {},
   "outputs": [],
   "source": [
    "def pushToSynapse(value, parentId, fileName = None):\n",
    "    \"\"\"\n",
    "    given string, push it to synaspe under the given synapseId and store it as a file\n",
    "    returns the synapse entity id\n",
    "    \"\"\"\n",
    "    temp_file = tempfile.NamedTemporaryFile(mode='w+t',prefix='command_line_used_', suffix='.txt', delete=False)\n",
    "    temp_file.write(value)\n",
    "    temp_file.close()\n",
    "\n",
    "    if fileName is None:\n",
    "        fileName = os.path.basename(temp_file.name)\n",
    "    \n",
    "    syn_temp_file = syn.store(synapseclient.File(temp_file.name, parentId=parentId, name=fileName))\n",
    "    return syn_temp_file.id\n"
   ]
  },
  {
   "cell_type": "code",
   "execution_count": 9,
   "metadata": {},
   "outputs": [],
   "source": [
    "def merge_htseq_counts(counts_files):\n",
    "    dfs = []\n",
    "    for count_file in counts_files:\n",
    "        df = pandas.read_csv(count_file,sep='\\t',header=None, skip_footer=5, names=('gene',count_file), index_col=['gene'])\n",
    "        dfs.append(df)\n",
    "    final_counts = pandas.concat(dfs, axis=1)\n",
    "    return final_counts"
   ]
  },
  {
   "cell_type": "code",
   "execution_count": 11,
   "metadata": {},
   "outputs": [],
   "source": [
    "def get_FilesList(path,pattern=None):\n",
    "    \"\"\"\n",
    "    traverse a dir recursively and find files with full paths\n",
    "    that match the given pattern\n",
    "    \"\"\"\n",
    "    SUB='get_FilesList'\n",
    "    if pattern is None:\n",
    "        sys.stderr.write('[%s]: No pattern supplied..will return all the files' % (SUB))\n",
    "\n",
    "    SUB='get_FilesList'\n",
    "    found_files = []\n",
    "    for root,dirs,files in os.walk(path):\n",
    "        for basename in files:\n",
    "            if pattern is not None:\n",
    "                if re.search(pattern,basename):\n",
    "                    filename = str(os.path.join(root,basename))\n",
    "                    found_files.append(filename.strip())\n",
    "            else:\n",
    "                filename = str(os.path.join(root,basename))\n",
    "                found_files.append(filename.strip())\n",
    "\n",
    "    print('[%s]: Found %d files at %s' % ( SUB,len(found_files),path))\n",
    "    return found_files\n"
   ]
  },
  {
   "cell_type": "code",
   "execution_count": 12,
   "metadata": {},
   "outputs": [],
   "source": [
    "def get_markdown_for_pandas_DF(df, wikiEntity=None, subPageId=None, syn=None, prefixText=None, suffixText=None):\n",
    "    df = df.reset_index()\n",
    "    if prefixText:\n",
    "        wikiText = \"%s\\n\\n\" % prefixText\n",
    "    else:\n",
    "        wikiText = ''\n",
    "    ncols = df.shape[1]\n",
    "    nrows = df.shape[0]\n",
    "    mod_colnames = map(lambda x: x.replace('_', '-'), df.columns.values)\n",
    "    wikiText += \"|%s|\\n\" %  ('|'.join(mod_colnames))\n",
    "    wikiText += \"|%s|\\n\" %  ( '|'.join(['--'] * ncols))\n",
    "\n",
    "    for row in df.iterrows():\n",
    "        values = row[1].values\n",
    "        wikiText += \"|%s|\\n\" % ('|'.join(map(str,values)))\n",
    "    if suffixText:\n",
    "        wikiText += \"%s\\n\" % suffixText\n",
    "\n",
    "    #just return the text\n",
    "    if wikiEntity is None and syn is None:\n",
    "        return wikiText\n",
    "    else:\n",
    "        wiki = syn.getWiki(wikiEntity, subpageId=subPageId)\n",
    "        wiki['markdown'] = wikiText\n",
    "        syn.store(wiki)\n",
    "        return wikiText"
   ]
  },
  {
   "cell_type": "code",
   "execution_count": 13,
   "metadata": {},
   "outputs": [],
   "source": [
    "def merge_htseq_counts(counts_files):\n",
    "    counts_files = [ x.path for x in counts_files]\n",
    "    dfs = []\n",
    "    for count_file in counts_files:\n",
    "        df = pandas.read_csv(count_file,sep='\\t',header=None, skip_footer=5, names=('gene',count_file), index_col=['gene'])\n",
    "        dfs.append(df)\n",
    "    counts = pandas.concat(dfs, axis=1)\n",
    "    final_counts = counts[~(counts == 0).all(axis=1)]\n",
    "    final_counts.columns = ['adrenal', 'brain']\n",
    "    return final_counts"
   ]
  },
  {
   "cell_type": "code",
   "execution_count": 14,
   "metadata": {},
   "outputs": [],
   "source": [
    "def temp_create_wiki(syn, counts, plot, rna_seq_proj, counts_syn ):\n",
    "    \n",
    "    #lets upload the plot with provenance\n",
    "    plot = synapseclient.File(plot,parentId=rna_seq_proj.id)\n",
    "    plot = syn.store(plot, used=counts_syn.id)\n",
    "    \n",
    "    #get the wiki\n",
    "    wiki = synapseclient.Wiki(title='My first RNA-Seq project', owner = rna_seq_proj)\n",
    "    \n",
    "    #lets build a markdown for the wiki\n",
    "    counts_markdown = get_markdown_for_pandas_DF(counts)\n",
    "    \n",
    "    markdown = \"\"\"\n",
    "    ###Raw read counts:\n",
    "    {counts}\n",
    "                \n",
    "    ###Genes with difference in counts:\n",
    "    {plot}\n",
    "\n",
    "    ###Complete Analysis Provenance\n",
    "    {provenance}\n",
    "    \"\"\"\n",
    "    \n",
    "    plot_wiki = '${image?synapseId=%s&align=None&scale=100}' % plot.id\n",
    "    provenance_wiki = '${provenance?entityList=%s&depth=4&showExpand=false&displayHeightPx=1000}' % counts_syn.id\n",
    "    markdown = markdown.format(counts =counts_markdown,\n",
    "                               plot = plot_wiki,\n",
    "                               provenance = provenance_wiki\n",
    "                               )\n",
    "        \n",
    "    wiki['markdown'] = markdown\n",
    "    wiki = syn.store(wiki)\n",
    "    return wiki"
   ]
  },
  {
   "cell_type": "code",
   "execution_count": null,
   "metadata": {},
   "outputs": [],
   "source": []
  }
 ],
 "metadata": {
  "kernelspec": {
   "display_name": "Python 3",
   "language": "python",
   "name": "python3"
  },
  "language_info": {
   "codemirror_mode": {
    "name": "ipython",
    "version": 3
   },
   "file_extension": ".py",
   "mimetype": "text/x-python",
   "name": "python",
   "nbconvert_exporter": "python",
   "pygments_lexer": "ipython3",
   "version": "3.8.5"
  }
 },
 "nbformat": 4,
 "nbformat_minor": 1
}
