{
 "cells": [
  {
   "cell_type": "markdown",
   "metadata": {},
   "source": [
    "<img src=\"files/images/SynapseLogo.jpg\" width=\"200\" height=\"260\" align=\"left\"/>\n",
    "\n",
    "<br>\n",
    "<br>\n",
    "\n",
    "### Tutorial 1. Introduction to Synapse Python API\n",
    "* For detailed hands on instructions using python API please visit [getting started guide](https://help.synapse.org/docs/Getting-Started.2055471150.html)\n",
    "* If you have any questions about python API please feel free to post them on the [python API forum](https://www.synapse.org/#!SynapseForum:default)\n",
    "\n",
    "* Synapse Python API installation instructions [here](https://help.synapse.org/docs/Installing-Synapse-API-Clients.1985249668.html)"
   ]
  },
  {
   "cell_type": "code",
   "execution_count": 12,
   "metadata": {},
   "outputs": [
    {
     "data": {
      "text/plain": [
       "2"
      ]
     },
     "execution_count": 12,
     "metadata": {},
     "output_type": "execute_result"
    }
   ],
   "source": [
    "1 + 1"
   ]
  },
  {
   "cell_type": "code",
   "execution_count": 13,
   "metadata": {},
   "outputs": [],
   "source": [
    "#import the synapse python API\n",
    "import synapseclient\n",
    "from synapseclient import Wiki, File, Project, Folder\n",
    "\n",
    "%run 'synapse_demo_utils_functions.ipynb'"
   ]
  },
  {
   "cell_type": "markdown",
   "metadata": {},
   "source": [
    "#### 1. Login to synapse using the API"
   ]
  },
  {
   "cell_type": "code",
   "execution_count": 14,
   "metadata": {},
   "outputs": [
    {
     "name": "stdout",
     "output_type": "stream",
     "text": [
      "Welcome, Abhishek Pratap!\n",
      "\n"
     ]
    }
   ],
   "source": [
    "#login using locally stored credentials\n",
    "syn = synapseclient.login()"
   ]
  },
  {
   "cell_type": "markdown",
   "metadata": {},
   "source": [
    "### Project and Data Management on Synapse\n",
    "#### 2. Create a new project on synapse\n",
    "\n",
    "<img src=\"files/images/project_1.png\" width=\"400\" height=\"250\" align=\"left\"/>\n"
   ]
  },
  {
   "cell_type": "code",
   "execution_count": null,
   "metadata": {},
   "outputs": [],
   "source": [
    "myProj = Project(name='Cell Lines Analysis %s' % randomword(5))\n",
    "myProj = syn.store(myProj)\n",
    "print('Created project with synapse id: %s' % myProj.id)"
   ]
  },
  {
   "cell_type": "markdown",
   "metadata": {},
   "source": [
    "### Check the synapse project we just created "
   ]
  },
  {
   "cell_type": "code",
   "execution_count": 16,
   "metadata": {},
   "outputs": [],
   "source": [
    "syn.onweb(myProj)"
   ]
  },
  {
   "cell_type": "markdown",
   "metadata": {},
   "source": [
    "### 2.1 Alternatively start with a project created from the synapse website"
   ]
  },
  {
   "cell_type": "code",
   "execution_count": 5,
   "metadata": {},
   "outputs": [],
   "source": [
    "#this project was created on synapse website\n",
    "#myProj = 'synXXX'\n",
    "#myProj = syn.get(myProj)"
   ]
  },
  {
   "cell_type": "markdown",
   "metadata": {},
   "source": [
    "#### 3. Create a Project Wiki\n",
    "\n",
    "<img src=\"files/images/project_2.png\" width=\"400\" height=\"250\" align=\"left\"/>\n"
   ]
  },
  {
   "cell_type": "code",
   "execution_count": 17,
   "metadata": {},
   "outputs": [],
   "source": [
    "projWiki = Wiki(title='Data Summary', owner = myProj )    "
   ]
  },
  {
   "cell_type": "markdown",
   "metadata": {},
   "source": [
    "#### 4. Push text content into a Wiki\n",
    "<img src=\"files/images/project_3.png\" width=\"400\" height=\"250\" align=\"left\"/>\n"
   ]
  },
  {
   "cell_type": "code",
   "execution_count": 18,
   "metadata": {},
   "outputs": [],
   "source": [
    "markdown = '''\n",
    "* Cell growth look normally distributed\n",
    "\n",
    "* There is evidence of inverse growth between these two cell lines \n",
    "'''\n",
    "projWiki['markdown'] = markdown\n",
    "projWiki = syn.store(projWiki)"
   ]
  },
  {
   "cell_type": "markdown",
   "metadata": {},
   "source": [
    "#### 5. Organizing Data: creating folder & file entities\n",
    "\n",
    "<img src=\"files/images/project_4.png\" width=\"400\" height=\"250\" align=\"left\"/>\n"
   ]
  },
  {
   "cell_type": "code",
   "execution_count": 19,
   "metadata": {},
   "outputs": [
    {
     "name": "stdout",
     "output_type": "stream",
     "text": [
      "\n",
      "##################################################\n",
      " Uploading file to Synapse storage \n",
      "##################################################\n",
      "\n"
     ]
    }
   ],
   "source": [
    "results_folder = Folder(name='results', parent=myProj)\n",
    "results_folder = syn.store(results_folder)\n",
    "\n",
    "raw_data_file = File(\"data/cell_lines_raw_data.csv\", parent=results_folder)\n",
    "raw_data_file = syn.store(raw_data_file)"
   ]
  },
  {
   "cell_type": "markdown",
   "metadata": {},
   "source": [
    "#### 5.1 Upload a plot\n",
    "<img src=\"files/images/plot_1.png\" width=\"200\" height=\"260\" align=\"left\"/>"
   ]
  },
  {
   "cell_type": "code",
   "execution_count": 20,
   "metadata": {},
   "outputs": [
    {
     "name": "stdout",
     "output_type": "stream",
     "text": [
      "\n",
      "##################################################\n",
      " Uploading file to Synapse storage \n",
      "##################################################\n",
      "\n"
     ]
    }
   ],
   "source": [
    "plot1 = File(\"images/plot_1.png\", parent=results_folder)\n",
    "plot1 = syn.store(plot1)"
   ]
  },
  {
   "cell_type": "markdown",
   "metadata": {},
   "source": [
    "### Let's check what we have done till now"
   ]
  },
  {
   "cell_type": "code",
   "execution_count": 21,
   "metadata": {},
   "outputs": [],
   "source": [
    "syn.onweb(myProj)"
   ]
  },
  {
   "cell_type": "markdown",
   "metadata": {},
   "source": [
    "####4.2 Keeping track of our analysis: Provenance\n",
    "<img src=\"files/images/project_5.png\" width=\"300\" height=\"250\" align=\"left\"/>"
   ]
  },
  {
   "cell_type": "code",
   "execution_count": 22,
   "metadata": {},
   "outputs": [
    {
     "name": "stdout",
     "output_type": "stream",
     "text": [
      "\n",
      "##################################################\n",
      " Uploading file to Synapse storage \n",
      "##################################################\n",
      "\n"
     ]
    }
   ],
   "source": [
    "used_data = [raw_data_file]\n",
    "code = ['https://github.com/Sage-Bionetworks/synapseTutorials']\n",
    "\n",
    "plot2 = File(\"images/plot_2.png\", parent=results_folder)\n",
    "plot2 = syn.store(plot2, used=used_data, executed=code)"
   ]
  },
  {
   "cell_type": "markdown",
   "metadata": {},
   "source": [
    "### Push the plots to Wiki"
   ]
  },
  {
   "cell_type": "code",
   "execution_count": 23,
   "metadata": {},
   "outputs": [],
   "source": [
    "wiki = syn.getWiki(myProj)\n",
    "md = \"\"\"\n",
    "#Cell line analysis\n",
    "* Cell growth look normally distributed\n",
    "* There is evidence of inverse growth between these two cell lines \n",
    "\n",
    "${{image?synapseId={plot1_id}&align=None&scale=50}}\n",
    "\n",
    "${{image?synapseId={plot2_id}&align=None&scale=50}}\n",
    "\"\"\"\n",
    "wiki['markdown'] = md.format(plot1_id=plot1.id, plot2_id=plot2.id)\n",
    "wiki = syn.store(wiki)"
   ]
  },
  {
   "cell_type": "code",
   "execution_count": 24,
   "metadata": {},
   "outputs": [],
   "source": [
    "syn.onweb(myProj)"
   ]
  },
  {
   "cell_type": "markdown",
   "metadata": {},
   "source": [
    "#### 5. Finally: clean up \n",
    "_(only because this was a demo)_"
   ]
  },
  {
   "cell_type": "code",
   "execution_count": 12,
   "metadata": {},
   "outputs": [],
   "source": [
    "syn.delete(myProj)"
   ]
  },
  {
   "cell_type": "code",
   "execution_count": null,
   "metadata": {},
   "outputs": [],
   "source": []
  }
 ],
 "metadata": {
  "kernelspec": {
   "display_name": "Python 3",
   "language": "python",
   "name": "python3"
  },
  "language_info": {
   "codemirror_mode": {
    "name": "ipython",
    "version": 3
   },
   "file_extension": ".py",
   "mimetype": "text/x-python",
   "name": "python",
   "nbconvert_exporter": "python",
   "pygments_lexer": "ipython3",
   "version": "3.8.5"
  }
 },
 "nbformat": 4,
 "nbformat_minor": 1
}
